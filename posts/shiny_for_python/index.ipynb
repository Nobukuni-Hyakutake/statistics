{
  "cells": [
    {
      "cell_type": "raw",
      "id": "c2fc2307",
      "metadata": {},
      "source": [
        "---\n",
        "title: \"Shiny for Python\"\n",
        "author: \"Nobukuni Hyakutake\"\n",
        "date: \"2025-04-27\"\n",
        "date-format: \"iso\"\n",
        "categories: [Python]\n",
        "image: \"field_mustard.jpeg\"\n",
        "---"
      ]
    },
    {
      "cell_type": "markdown",
      "id": "4d112854",
      "metadata": {},
      "source": [
        "![](field_mustard.jpeg)\n",
        "\n",
        "## ペンギンのヒストグラムのダッシュボード\n",
        "\n",
        "下記のコードを`app.py`として保存する。\n"
      ]
    },
    {
      "cell_type": "code",
      "execution_count": null,
      "id": "aef38930",
      "metadata": {},
      "outputs": [],
      "source": [
        "#| eval: false\n",
        "\n",
        "from pathlib import Path\n",
        "from plotnine import ggplot, aes, geom_histogram, geom_vline\n",
        "from faicons import icon_svg\n",
        "from palmerpenguins import load_penguins\n",
        "from shiny import reactive\n",
        "from shiny.express import input, render, ui\n",
        "\n",
        "df = load_penguins()\n",
        "app_dir = Path(__file__).parent\n",
        "\n",
        "ui.page_opts(title=\"Penguins histogram\", fillable=True)\n",
        "\n",
        "with ui.sidebar(title=\"Filter controls\"):\n",
        "    ui.input_checkbox_group(\n",
        "        \"species\",\n",
        "        \"Species\",\n",
        "        [\"Adelie\", \"Gentoo\", \"Chinstrap\"],\n",
        "        selected=[\"Adelie\", \"Gentoo\", \"Chinstrap\"],\n",
        "    )\n",
        "    ui.input_checkbox_group(\n",
        "        \"island\",\n",
        "        \"Island\",\n",
        "        [\"Biscoe\", \"Dream\", \"Torgersen\"],\n",
        "        selected=[\"Biscoe\", \"Dream\", \"Torgersen\"],\n",
        "    )\n",
        "\n",
        "with ui.layout_column_wrap(fill=False):\n",
        "    with ui.value_box(showcase=icon_svg(\"earlybirds\")):\n",
        "        \"Number of penguins\"\n",
        "\n",
        "        @render.text\n",
        "        def count():\n",
        "            return filtered_df().shape[0]\n",
        "\n",
        "    with ui.value_box(showcase=icon_svg(\"ruler-horizontal\")):\n",
        "        \"Average bill length\"\n",
        "\n",
        "        @render.text\n",
        "        def bill_length():\n",
        "            return f\"{filtered_df()['bill_length_mm'].mean():.1f} mm\"\n",
        "\n",
        "    with ui.value_box(showcase=icon_svg(\"ruler-vertical\")):\n",
        "        \"Average bill depth\"\n",
        "\n",
        "        @render.text\n",
        "        def bill_depth():\n",
        "            return f\"{filtered_df()['bill_depth_mm'].mean():.1f} mm\"\n",
        "\n",
        "\n",
        "with ui.layout_columns():\n",
        "    with ui.card(full_screen=True):\n",
        "        ui.card_header(\"Bill length and depth\")\n",
        "\n",
        "        @render.plot\n",
        "        def length_depth():\n",
        "            return (\n",
        "                ggplot(filtered_df(), aes(x=\"bill_length_mm\"))\n",
        "                + geom_histogram()\n",
        "                + geom_vline(\n",
        "                    xintercept=filtered_df()[\"bill_length_mm\"].mean(),\n",
        "                    color=\"green\",\n",
        "                    linetype=\"dashed\",\n",
        "                )\n",
        "            )\n",
        "\n",
        "\n",
        "@reactive.calc\n",
        "def filtered_df():\n",
        "    filt_df = df[df[\"species\"].isin(input.species())]\n",
        "    filt_df = filt_df[filt_df[\"island\"].isin(input.island())]\n",
        "    return filt_df"
      ]
    },
    {
      "cell_type": "markdown",
      "id": "21095c1d",
      "metadata": {},
      "source": [
        "下記を実行するとブラウザで下図のようなダッシュボードが出てくる。\n",
        "\n",
        "```\n",
        "python3 -m shiny run --launch-browser app.py\n",
        "```\n",
        "\n",
        "![](histogram_shiny.png)\n",
        "\n",
        "## 参考文献\n",
        "\n",
        "- [Shiny > Install, create, & run](https://shiny.posit.co/py/docs/install-create-run.html)\n",
        "\n",
        "## Python version\n"
      ]
    },
    {
      "cell_type": "code",
      "execution_count": null,
      "id": "37530185",
      "metadata": {},
      "outputs": [],
      "source": [
        "import platform\n",
        "\"Python version \"+platform.python_version()"
      ]
    }
  ],
  "metadata": {
    "kernelspec": {
      "display_name": "Python 3",
      "language": "python",
      "name": "python3"
    },
    "language_info": {
      "name": "python",
      "version": "3.13.3"
    }
  },
  "nbformat": 4,
  "nbformat_minor": 5
}
